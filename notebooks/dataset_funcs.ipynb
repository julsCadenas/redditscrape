{
 "cells": [
  {
   "cell_type": "markdown",
   "metadata": {},
   "source": [
    "# THIS NOTEBOOK IS FOR PREPARING, CHECKING AND CLEANING THE DATASET"
   ]
  },
  {
   "cell_type": "markdown",
   "metadata": {},
   "source": [
    "Import statements"
   ]
  },
  {
   "cell_type": "code",
   "execution_count": 2,
   "metadata": {},
   "outputs": [
    {
     "data": {
      "text/plain": [
       "True"
      ]
     },
     "execution_count": 2,
     "metadata": {},
     "output_type": "execute_result"
    }
   ],
   "source": [
    "import praw\n",
    "import json\n",
    "import os\n",
    "from dotenv import load_dotenv\n",
    "load_dotenv()"
   ]
  },
  {
   "cell_type": "markdown",
   "metadata": {},
   "source": [
    "Get the dataset by scraping the top 100 reddit posts in a subreddit (in this case r/PHbuildapc)"
   ]
  },
  {
   "cell_type": "code",
   "execution_count": 7,
   "metadata": {},
   "outputs": [],
   "source": [
    "\n",
    "reddit = praw.Reddit(\n",
    "    client_id = os.getenv('CLIENT_ID'),\n",
    "    client_secret = os.getenv('CLIENT_SECRET'),\n",
    "    user_agent = \"retldr\"\n",
    ")\n",
    "\n",
    "data = []\n",
    "subreddit = reddit.subreddit(\"PHbuildapc\") # subreddit of choice \n",
    "\n",
    "for submission in subreddit.top(limit=100): # only fetch the top 100 posts\n",
    "    post = {\n",
    "        \"title\": submission.title,\n",
    "        \"selftext\": submission.selftext,\n",
    "        \"comments\": [\n",
    "            comment.body for comment in submission.comments\n",
    "            if isinstance(comment, praw.models.Comment)\n",
    "        ]\n",
    "    }\n",
    "    data.append(post)\n",
    "\n",
    "# save dataset to json\n",
    "with open(\"../data/reddit_data.json\", \"w\") as file:\n",
    "    json.dump(data, file, indent=4)\n"
   ]
  },
  {
   "cell_type": "markdown",
   "metadata": {},
   "source": [
    "Open the dataset (json) file"
   ]
  },
  {
   "cell_type": "code",
   "execution_count": 11,
   "metadata": {},
   "outputs": [],
   "source": [
    "with open('../data/reddit_data.json', 'r+') as file:\n",
    "    data = json.load(file)"
   ]
  },
  {
   "cell_type": "markdown",
   "metadata": {},
   "source": [
    "Check how many summaries have been added to the dataset"
   ]
  },
  {
   "cell_type": "code",
   "execution_count": 4,
   "metadata": {},
   "outputs": [
    {
     "name": "stdout",
     "output_type": "stream",
     "text": [
      "31 posts have summaries added to it\n",
      "posts with index [0, 1, 2, 3, 4, 5, 6, 7, 8, 9, 10, 11, 12, 13, 14, 15, 16, 17, 18, 19, 20, 21, 22, 23, 24, 25, 26, 27, 28, 29, 30] have summaries added to it\n"
     ]
    }
   ],
   "source": [
    "summary_counter = 0\n",
    "post_w_summary = []\n",
    "for i in data:\n",
    "    if \"summary\" in i:\n",
    "        summary_counter+=1\n",
    "        post_w_summary.append(i[\"index\"])\n",
    "\n",
    "print(f\"{summary_counter} posts have summaries added to it\")\n",
    "print(f\"posts with index {post_w_summary} have summaries added to it\")"
   ]
  },
  {
   "cell_type": "markdown",
   "metadata": {},
   "source": [
    "Add index numbers to the dataset ( run only once )"
   ]
  },
  {
   "cell_type": "code",
   "execution_count": 10,
   "metadata": {},
   "outputs": [
    {
     "name": "stdout",
     "output_type": "stream",
     "text": [
      "index numbers added and saved to json file.\n"
     ]
    }
   ],
   "source": [
    "index_num = 0\n",
    "for i in data:\n",
    "    i['index'] = index_num\n",
    "    index_num += 1\n",
    "\n",
    "with open('../data/reddit_data.json', 'w') as file:\n",
    "    json.dump(data, file, indent=4)\n",
    "\n",
    "print(\"index numbers added and saved to json file.\")"
   ]
  },
  {
   "cell_type": "markdown",
   "metadata": {},
   "source": [
    "Added \"summary\" keys to the dataset"
   ]
  },
  {
   "cell_type": "code",
   "execution_count": 28,
   "metadata": {},
   "outputs": [
    {
     "name": "stdout",
     "output_type": "stream",
     "text": [
      "empty summary keys added and saved to json file.\n"
     ]
    }
   ],
   "source": [
    "for i in range(46, len(data)):\n",
    "    data[i][\"summary\"] = None\n",
    "    \n",
    "with open('../data/reddit_data.json', 'w') as file:\n",
    "    json.dump(data, file, indent=4)\n",
    "\n",
    "print(\"empty summary keys added and saved to json file.\")"
   ]
  },
  {
   "cell_type": "markdown",
   "metadata": {},
   "source": [
    "Attempt to automate adding summaries to each post entry in the dataset"
   ]
  },
  {
   "cell_type": "code",
   "execution_count": 12,
   "metadata": {},
   "outputs": [],
   "source": [
    "index = 55\n",
    "summary = {\n",
    "  \"title\": \"Positive Experience Buying Used GPU (RTX 3060) from Facebook Marketplace\",\n",
    "  \"selftext\": \"This post highlights a positive experience with purchasing a used GPU (RTX 3060) from Facebook Marketplace. The user was searching for a GPU for two months and found an excellent deal on an RTX 3060 8GB GAMING OC priced at 11k PHP, much lower than its usual price. The seller offered a personal warranty and even offered to come to the user's house to test the product, making the transaction more convenient. After agreeing on a price, the seller reduced it further to 8.5k PHP, which was considered an unusually good deal.\\n\\nThe user checked the receipt and found the GPU was originally purchased for 21k PHP in January 2023. After purchasing the GPU, the user had no issues and praised the seller's professionalism. The post ends with a recommendation to explore the used market for PC parts, particularly GPUs.\",\n",
    "  \"comments\": [\n",
    "    \"Users congratulate the OP and share their own experiences of finding good deals in the used market.\",\n",
    "    \"Some users mention the competitive nature of the used market, where people offer significantly lower prices.\",\n",
    "    \"Others praise the generosity of sellers who go the extra mile, like offering personal warranties or testing the product on-site.\"\n",
    "  ],\n",
    "  \"sentiment\": \"Positive and encouraging, with a focus on patience, research, and finding great deals in the used market.\"\n",
    "}\n",
    "\n",
    "\n",
    "for i in data:\n",
    "    if i[\"index\"] == index:\n",
    "        i[\"summary\"] = summary\n",
    "        \n",
    "with open('../data/reddit_data.json', 'w') as file:\n",
    "    json.dump(data, file, indent=4)"
   ]
  }
 ],
 "metadata": {
  "kernelspec": {
   "display_name": ".venv",
   "language": "python",
   "name": "python3"
  },
  "language_info": {
   "codemirror_mode": {
    "name": "ipython",
    "version": 3
   },
   "file_extension": ".py",
   "mimetype": "text/x-python",
   "name": "python",
   "nbconvert_exporter": "python",
   "pygments_lexer": "ipython3",
   "version": "3.12.3"
  }
 },
 "nbformat": 4,
 "nbformat_minor": 2
}
