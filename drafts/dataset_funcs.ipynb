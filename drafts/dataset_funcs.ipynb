{
 "cells": [
  {
   "cell_type": "markdown",
   "metadata": {},
   "source": [
    "# THIS NOTEBOOK IS FOR PREPARING, CHECKING AND CLEANING THE DATASET"
   ]
  },
  {
   "cell_type": "markdown",
   "metadata": {},
   "source": [
    "Import statements"
   ]
  },
  {
   "cell_type": "code",
   "execution_count": 2,
   "metadata": {},
   "outputs": [
    {
     "data": {
      "text/plain": [
       "True"
      ]
     },
     "execution_count": 2,
     "metadata": {},
     "output_type": "execute_result"
    }
   ],
   "source": [
    "import praw\n",
    "import json\n",
    "import os\n",
    "from dotenv import load_dotenv\n",
    "load_dotenv()"
   ]
  },
  {
   "cell_type": "markdown",
   "metadata": {},
   "source": [
    "Get the dataset by scraping the top 100 reddit posts in a subreddit (in this case r/PHbuildapc)"
   ]
  },
  {
   "cell_type": "code",
   "execution_count": 7,
   "metadata": {},
   "outputs": [],
   "source": [
    "\n",
    "reddit = praw.Reddit(\n",
    "    client_id = os.getenv('CLIENT_ID'),\n",
    "    client_secret = os.getenv('CLIENT_SECRET'),\n",
    "    user_agent = \"retldr\"\n",
    ")\n",
    "\n",
    "data = []\n",
    "subreddit = reddit.subreddit(\"PHbuildapc\") # subreddit of choice \n",
    "\n",
    "for submission in subreddit.top(limit=100): # only fetch the top 100 posts\n",
    "    post = {\n",
    "        \"title\": submission.title,\n",
    "        \"selftext\": submission.selftext,\n",
    "        \"comments\": [\n",
    "            comment.body for comment in submission.comments\n",
    "            if isinstance(comment, praw.models.Comment)\n",
    "        ]\n",
    "    }\n",
    "    data.append(post)\n",
    "\n",
    "# save dataset to json\n",
    "with open(\"reddit_data.json\", \"w\") as file:\n",
    "    json.dump(data, file, indent=4)\n"
   ]
  },
  {
   "cell_type": "markdown",
   "metadata": {},
   "source": [
    "Open the dataset (json) file"
   ]
  },
  {
   "cell_type": "code",
   "execution_count": 3,
   "metadata": {},
   "outputs": [],
   "source": [
    "with open('reddit_data.json', 'r+') as file:\n",
    "    data = json.load(file)"
   ]
  },
  {
   "cell_type": "markdown",
   "metadata": {},
   "source": [
    "Check how many summaries have been added to the dataset"
   ]
  },
  {
   "cell_type": "code",
   "execution_count": 5,
   "metadata": {},
   "outputs": [
    {
     "name": "stdout",
     "output_type": "stream",
     "text": [
      "22 posts have summaries added to it\n",
      "posts with index [0, 1, 2, 3, 4, 5, 6, 7, 8, 9, 10, 11, 12, 13, 14, 15, 16, 17, 18, 19, 20, 21] have summaries added to it\n"
     ]
    }
   ],
   "source": [
    "summary_counter = 0\n",
    "post_w_summary = []\n",
    "for i in data:\n",
    "    if \"summary\" in i:\n",
    "        summary_counter+=1\n",
    "        post_w_summary.append(i[\"index\"])\n",
    "\n",
    "print(f\"{summary_counter} posts have summaries added to it\")\n",
    "print(f\"posts with index {post_w_summary} have summaries added to it\")"
   ]
  },
  {
   "cell_type": "markdown",
   "metadata": {},
   "source": [
    "Add index numbers to the dataset ( run only once )"
   ]
  },
  {
   "cell_type": "code",
   "execution_count": 14,
   "metadata": {},
   "outputs": [
    {
     "name": "stdout",
     "output_type": "stream",
     "text": [
      "index numbers added and saved to json file.\n"
     ]
    }
   ],
   "source": [
    "index_num = 0\n",
    "for i in data:\n",
    "    i['index'] = index_num\n",
    "    index_num += 1\n",
    "\n",
    "with open('reddit_data.json', 'w') as file:\n",
    "    json.dump(data, file, indent=4)\n",
    "\n",
    "print(\"index numbers added and saved to json file.\")"
   ]
  },
  {
   "cell_type": "markdown",
   "metadata": {},
   "source": [
    "Attempt to automate adding summaries to each post entry in the dataset"
   ]
  },
  {
   "cell_type": "code",
   "execution_count": 14,
   "metadata": {},
   "outputs": [],
   "source": [
    "index = 30\n",
    "summary = {\n",
    "  \"title\": \"11/11 Deals Cheat Sheet - Lazada & Amazon Offers\",\n",
    "  \"post\": {\n",
    "    \"overview\": \"The post provides a cheat sheet with updated deals and offers for 11/11, particularly on Lazada and Amazon. Key highlights include Lazada and Amazon deals, voucher instructions, and a link to a Google Sheets document with more details.\",\n",
    "    \"details\": {\n",
    "      \"lazada_deals\": {\n",
    "        \"special_offers\": [\n",
    "          \"0% Spaylater voucher\",\n",
    "          \"Ways to maximize coin usage\",\n",
    "          \"Free LazRewards for Lazada members (Nov 8-13)\"\n",
    "        ],\n",
    "        \"additional_vouchers\": [\n",
    "          \"LAZADA300\",\n",
    "          \"LAZADA500\"\n",
    "        ],\n",
    "        \"product_deals\": [\n",
    "          \"CPUs\",\n",
    "          \"GPUs\",\n",
    "          \"SSDs\",\n",
    "          \"RAM\",\n",
    "          \"Accessories\"\n",
    "        ]\n",
    "      },\n",
    "      \"amazon_deals\": {\n",
    "        \"discounted_components\": [\n",
    "          \"RAM\",\n",
    "          \"SSDs\",\n",
    "          \"Monitors\"\n",
    "        ],\n",
    "        \"product_categories\": [\n",
    "          \"Budget-friendly gaming components\",\n",
    "          \"Productivity components\"\n",
    "        ]\n",
    "      },\n",
    "      \"voucher_instructions\": \"Details on using specific Lazada and Amazon vouchers for better discounts.\",\n",
    "      \"link_to_google_sheet\": \"A link to the updated Google Sheets document containing more details on these offers.\"\n",
    "    },\n",
    "    \"user_input_encouraged\": \"The post invites users to share additional deals that should be included.\"\n",
    "  }\n",
    "}\n",
    "\n",
    "for i in data:\n",
    "    if i[\"index\"] == index:\n",
    "        i[\"summary\"] = summary\n",
    "        \n",
    "with open('reddit_data.json', 'w') as file:\n",
    "    json.dump(data, file, indent=4)"
   ]
  }
 ],
 "metadata": {
  "kernelspec": {
   "display_name": ".venv",
   "language": "python",
   "name": "python3"
  },
  "language_info": {
   "codemirror_mode": {
    "name": "ipython",
    "version": 3
   },
   "file_extension": ".py",
   "mimetype": "text/x-python",
   "name": "python",
   "nbconvert_exporter": "python",
   "pygments_lexer": "ipython3",
   "version": "3.12.3"
  }
 },
 "nbformat": 4,
 "nbformat_minor": 2
}
