{
 "cells": [
  {
   "cell_type": "markdown",
   "metadata": {},
   "source": [
    "# EVAL USING ROGUE"
   ]
  },
  {
   "cell_type": "markdown",
   "metadata": {},
   "source": [
    "prepare imports"
   ]
  },
  {
   "cell_type": "code",
   "execution_count": 2,
   "metadata": {},
   "outputs": [
    {
     "name": "stderr",
     "output_type": "stream",
     "text": [
      "/home/jscadenas/redditscrape/.venv/lib/python3.12/site-packages/tqdm/auto.py:21: TqdmWarning: IProgress not found. Please update jupyter and ipywidgets. See https://ipywidgets.readthedocs.io/en/stable/user_install.html\n",
      "  from .autonotebook import tqdm as notebook_tqdm\n"
     ]
    }
   ],
   "source": [
    "from transformers import pipeline\n",
    "import json\n",
    "from rouge_score import rouge_scorer\n",
    "import numpy as np"
   ]
  },
  {
   "cell_type": "markdown",
   "metadata": {},
   "source": [
    "prepare functions"
   ]
  },
  {
   "cell_type": "code",
   "execution_count": 7,
   "metadata": {},
   "outputs": [
    {
     "name": "stderr",
     "output_type": "stream",
     "text": [
      "Device set to use cuda:0\n"
     ]
    }
   ],
   "source": [
    "summarizer = pipeline(\n",
    "            \"summarization\",\n",
    "            model = \"../models/model2\",\n",
    "            tokenizer = \"../models/model2\",\n",
    "        )\n",
    "        \n",
    "def summarize(text, prompt):\n",
    "    inputs = f\"{prompt}: {text}\"\n",
    "    input_tokens = summarizer.tokenizer.encode(inputs, truncation=False)\n",
    "    input_len = len(input_tokens)\n",
    "    max_length = min(input_len * 2, 1024)\n",
    "    min_length = max(32, input_len // 4)\n",
    "    summary = summarizer(\n",
    "        inputs,\n",
    "        max_length=max_length,\n",
    "        min_length=min_length,\n",
    "        length_penalty=2.0,\n",
    "        num_beams=4,\n",
    "    )\n",
    "    return summary[0]['summary_text']\n",
    "    \n",
    "def process_data(response, prompt):\n",
    "    post_content = response[0]['data']['children'][0]['data'].get('selftext', '')\n",
    "    comments = []\n",
    "    for comment in response[1]['data']['children']:\n",
    "        if 'body' in comment['data']:\n",
    "            comments.append(comment['data']['body'])\n",
    "    comments_all = ' '.join(comments)\n",
    "\n",
    "    post_summary = summarize(post_content, prompt)\n",
    "    comments_summary = summarize(comments_all, prompt)\n",
    "\n",
    "    return {\n",
    "        \"post_summary\": post_summary,\n",
    "        \"comments_summary\": comments_summary\n",
    "    }"
   ]
  },
  {
   "cell_type": "markdown",
   "metadata": {},
   "source": [
    "load the reddit post and summarize it then save the summary in another json file"
   ]
  },
  {
   "cell_type": "code",
   "execution_count": 8,
   "metadata": {},
   "outputs": [
    {
     "name": "stderr",
     "output_type": "stream",
     "text": [
      "Your max_length is set to 274, but your input_length is only 137. Since this is a summarization task, where outputs shorter than the input are typically wanted, you might consider decreasing max_length manually, e.g. summarizer('...', max_length=68)\n",
      "Your max_length is set to 380, but your input_length is only 190. Since this is a summarization task, where outputs shorter than the input are typically wanted, you might consider decreasing max_length manually, e.g. summarizer('...', max_length=95)\n"
     ]
    },
    {
     "name": "stdout",
     "output_type": "stream",
     "text": [
      "Summary saved to summary.json\n"
     ]
    }
   ],
   "source": [
    "with open('../response.json') as file:\n",
    "    reddit_post = json.load(file)\n",
    "\n",
    "summary = process_data(reddit_post, \"Summarize and highlight popular brands\")\n",
    "\n",
    "with open('../summary.json', 'w') as file:\n",
    "    json.dump(summary, file, indent=4)\n",
    "print(\"Summary saved to summary.json\")"
   ]
  },
  {
   "cell_type": "markdown",
   "metadata": {},
   "source": [
    "verify by printing the summaries"
   ]
  },
  {
   "cell_type": "code",
   "execution_count": 9,
   "metadata": {},
   "outputs": [
    {
     "name": "stdout",
     "output_type": "stream",
     "text": [
      "Post Summary:\n",
      " {\"title\": \"Budget for a New Chair with Adjustable Headrest and Armrest\", \"selftext\": \"The user is looking for a new chair with an adjustable headrest, armrest, chair height, and a lumbar pillow with mesh material. They mention a budget of P3,000-P4,000 and highlight popular brands.\", \"comments\": [\"Users provide feedback on the chair's specifications and suggest alternative options.\", \"Some users suggest reaching out to influencers for recommendations on speakerphones or headphones for better long-distance communication.\", \"The sentiment is positive, with users appreciating the user's effort to find a chair and offering helpful suggestions for its design.\"], \"sentiment\": \" the sentiment is encouraging and supportive, with Users sharing their own search experiences and offering suggestions for additional features on chairs and speakers.\"}\n",
      "\n",
      "Comments Summary:\n",
      " {\"title\": \"Budget-friendly office chair suggestions\", \"selftext\": {\"overview\": \"The post provides a budget-friendly option for purchasing a used desktop chair, highlighting popular brands like Steelcase and Sihoo as examples. The user shares their own experience with buying good chairs under budget, highlighting the benefits of buying used or refurbished models.\", \"suggestions\": [\"Used Steelcase chairs priced at around 4k PHP on Facebook Marketplace with a guarantee.\", \"Carousell offers office chairs for around 1.5k PHP, which is within the budget.\", \"The OP shares a positive experience with purchasing a SihOO m57 and an Ergo Prime Mesh chair for around 8-9k PHP each, describing them as the best desktop chairs they've ever bought.\", \"There are 3-5k chairs out there, and the OP advises trying different platforms to find good deals.\"], \"comments\": [\"Users share their own experiences with buying chairs and advise the OP on where to buy and how to proceed.\", \"Some users mention limited budget options and recommend specific brands or platforms based on their previous experiences.\", \" The sentiment is mixed, with users appreciating the OP's experience but also sharing their own concerns about the quality of used chairs and the wide variety of models available.\"]}}\n"
     ]
    }
   ],
   "source": [
    "print(\"Post Summary:\\n\", summary[\"post_summary\"])\n",
    "print(\"\\nComments Summary:\\n\", summary[\"comments_summary\"])"
   ]
  },
  {
   "cell_type": "markdown",
   "metadata": {},
   "source": [
    "fix the json files (the output summary files are not formatted properly (json))"
   ]
  },
  {
   "cell_type": "code",
   "execution_count": 8,
   "metadata": {},
   "outputs": [],
   "source": [
    "with open('../summary.json', 'r') as file:\n",
    "    generated_summaries = file.read()\n",
    "\n",
    "with open('../reference.json', 'r') as file:\n",
    "    reference_summaries = file.read()\n",
    "\n",
    "def fix_json(jsonfile, path):\n",
    "    improper_json = jsonfile\n",
    "\n",
    "    fixed_json = json.loads(improper_json)\n",
    "\n",
    "    fixed_post_summary = json.loads(fixed_json['post_summary'])\n",
    "    fixed_comments_summary = json.loads(fixed_json['comments_summary'])\n",
    "\n",
    "    fixed_json['post_summary'] = fixed_post_summary\n",
    "    fixed_json['comments_summary'] = fixed_comments_summary\n",
    "\n",
    "    print(json.dumps(fixed_json, indent=4))\n",
    "\n",
    "    with open(path, 'w') as file:\n",
    "        json.dump(fixed_json, file, indent=4)"
   ]
  }
 ],
 "metadata": {
  "kernelspec": {
   "display_name": ".venv",
   "language": "python",
   "name": "python3"
  },
  "language_info": {
   "codemirror_mode": {
    "name": "ipython",
    "version": 3
   },
   "file_extension": ".py",
   "mimetype": "text/x-python",
   "name": "python",
   "nbconvert_exporter": "python",
   "pygments_lexer": "ipython3",
   "version": "3.12.3"
  }
 },
 "nbformat": 4,
 "nbformat_minor": 2
}
